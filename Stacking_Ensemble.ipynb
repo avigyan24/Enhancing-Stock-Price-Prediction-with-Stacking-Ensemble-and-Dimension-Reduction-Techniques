{
  "nbformat": 4,
  "nbformat_minor": 0,
  "metadata": {
    "colab": {
      "provenance": [],
      "include_colab_link": true
    },
    "kernelspec": {
      "name": "python3",
      "display_name": "Python 3"
    },
    "language_info": {
      "name": "python"
    }
  },
  "cells": [
    {
      "cell_type": "markdown",
      "metadata": {
        "id": "view-in-github",
        "colab_type": "text"
      },
      "source": [
        "<a href=\"https://colab.research.google.com/github/avigyan24/Stock-Price-Prediction-using-Ensemble-Learning-and-Diemention-Reduction/blob/main/Stacking_Ensemble.ipynb\" target=\"_parent\"><img src=\"https://colab.research.google.com/assets/colab-badge.svg\" alt=\"Open In Colab\"/></a>"
      ]
    },
    {
      "cell_type": "code",
      "execution_count": null,
      "metadata": {
        "id": "ka34mHzy9lcH"
      },
      "outputs": [],
      "source": [
        "import pandas as pd\n",
        "import numpy as np\n",
        "import matplotlib.pyplot as plt"
      ]
    },
    {
      "cell_type": "code",
      "source": [
        "from google.colab import files\n",
        "data=files.upload()"
      ],
      "metadata": {
        "colab": {
          "base_uri": "https://localhost:8080/",
          "height": 73
        },
        "id": "RgKIcE7o9ryO",
        "outputId": "93e9f015-7154-45a9-a9e4-52b98d6ee255"
      },
      "execution_count": null,
      "outputs": [
        {
          "output_type": "display_data",
          "data": {
            "text/plain": [
              "<IPython.core.display.HTML object>"
            ],
            "text/html": [
              "\n",
              "     <input type=\"file\" id=\"files-effd7d57-333d-4879-a8e5-9034756579f5\" name=\"files[]\" multiple disabled\n",
              "        style=\"border:none\" />\n",
              "     <output id=\"result-effd7d57-333d-4879-a8e5-9034756579f5\">\n",
              "      Upload widget is only available when the cell has been executed in the\n",
              "      current browser session. Please rerun this cell to enable.\n",
              "      </output>\n",
              "      <script>// Copyright 2017 Google LLC\n",
              "//\n",
              "// Licensed under the Apache License, Version 2.0 (the \"License\");\n",
              "// you may not use this file except in compliance with the License.\n",
              "// You may obtain a copy of the License at\n",
              "//\n",
              "//      http://www.apache.org/licenses/LICENSE-2.0\n",
              "//\n",
              "// Unless required by applicable law or agreed to in writing, software\n",
              "// distributed under the License is distributed on an \"AS IS\" BASIS,\n",
              "// WITHOUT WARRANTIES OR CONDITIONS OF ANY KIND, either express or implied.\n",
              "// See the License for the specific language governing permissions and\n",
              "// limitations under the License.\n",
              "\n",
              "/**\n",
              " * @fileoverview Helpers for google.colab Python module.\n",
              " */\n",
              "(function(scope) {\n",
              "function span(text, styleAttributes = {}) {\n",
              "  const element = document.createElement('span');\n",
              "  element.textContent = text;\n",
              "  for (const key of Object.keys(styleAttributes)) {\n",
              "    element.style[key] = styleAttributes[key];\n",
              "  }\n",
              "  return element;\n",
              "}\n",
              "\n",
              "// Max number of bytes which will be uploaded at a time.\n",
              "const MAX_PAYLOAD_SIZE = 100 * 1024;\n",
              "\n",
              "function _uploadFiles(inputId, outputId) {\n",
              "  const steps = uploadFilesStep(inputId, outputId);\n",
              "  const outputElement = document.getElementById(outputId);\n",
              "  // Cache steps on the outputElement to make it available for the next call\n",
              "  // to uploadFilesContinue from Python.\n",
              "  outputElement.steps = steps;\n",
              "\n",
              "  return _uploadFilesContinue(outputId);\n",
              "}\n",
              "\n",
              "// This is roughly an async generator (not supported in the browser yet),\n",
              "// where there are multiple asynchronous steps and the Python side is going\n",
              "// to poll for completion of each step.\n",
              "// This uses a Promise to block the python side on completion of each step,\n",
              "// then passes the result of the previous step as the input to the next step.\n",
              "function _uploadFilesContinue(outputId) {\n",
              "  const outputElement = document.getElementById(outputId);\n",
              "  const steps = outputElement.steps;\n",
              "\n",
              "  const next = steps.next(outputElement.lastPromiseValue);\n",
              "  return Promise.resolve(next.value.promise).then((value) => {\n",
              "    // Cache the last promise value to make it available to the next\n",
              "    // step of the generator.\n",
              "    outputElement.lastPromiseValue = value;\n",
              "    return next.value.response;\n",
              "  });\n",
              "}\n",
              "\n",
              "/**\n",
              " * Generator function which is called between each async step of the upload\n",
              " * process.\n",
              " * @param {string} inputId Element ID of the input file picker element.\n",
              " * @param {string} outputId Element ID of the output display.\n",
              " * @return {!Iterable<!Object>} Iterable of next steps.\n",
              " */\n",
              "function* uploadFilesStep(inputId, outputId) {\n",
              "  const inputElement = document.getElementById(inputId);\n",
              "  inputElement.disabled = false;\n",
              "\n",
              "  const outputElement = document.getElementById(outputId);\n",
              "  outputElement.innerHTML = '';\n",
              "\n",
              "  const pickedPromise = new Promise((resolve) => {\n",
              "    inputElement.addEventListener('change', (e) => {\n",
              "      resolve(e.target.files);\n",
              "    });\n",
              "  });\n",
              "\n",
              "  const cancel = document.createElement('button');\n",
              "  inputElement.parentElement.appendChild(cancel);\n",
              "  cancel.textContent = 'Cancel upload';\n",
              "  const cancelPromise = new Promise((resolve) => {\n",
              "    cancel.onclick = () => {\n",
              "      resolve(null);\n",
              "    };\n",
              "  });\n",
              "\n",
              "  // Wait for the user to pick the files.\n",
              "  const files = yield {\n",
              "    promise: Promise.race([pickedPromise, cancelPromise]),\n",
              "    response: {\n",
              "      action: 'starting',\n",
              "    }\n",
              "  };\n",
              "\n",
              "  cancel.remove();\n",
              "\n",
              "  // Disable the input element since further picks are not allowed.\n",
              "  inputElement.disabled = true;\n",
              "\n",
              "  if (!files) {\n",
              "    return {\n",
              "      response: {\n",
              "        action: 'complete',\n",
              "      }\n",
              "    };\n",
              "  }\n",
              "\n",
              "  for (const file of files) {\n",
              "    const li = document.createElement('li');\n",
              "    li.append(span(file.name, {fontWeight: 'bold'}));\n",
              "    li.append(span(\n",
              "        `(${file.type || 'n/a'}) - ${file.size} bytes, ` +\n",
              "        `last modified: ${\n",
              "            file.lastModifiedDate ? file.lastModifiedDate.toLocaleDateString() :\n",
              "                                    'n/a'} - `));\n",
              "    const percent = span('0% done');\n",
              "    li.appendChild(percent);\n",
              "\n",
              "    outputElement.appendChild(li);\n",
              "\n",
              "    const fileDataPromise = new Promise((resolve) => {\n",
              "      const reader = new FileReader();\n",
              "      reader.onload = (e) => {\n",
              "        resolve(e.target.result);\n",
              "      };\n",
              "      reader.readAsArrayBuffer(file);\n",
              "    });\n",
              "    // Wait for the data to be ready.\n",
              "    let fileData = yield {\n",
              "      promise: fileDataPromise,\n",
              "      response: {\n",
              "        action: 'continue',\n",
              "      }\n",
              "    };\n",
              "\n",
              "    // Use a chunked sending to avoid message size limits. See b/62115660.\n",
              "    let position = 0;\n",
              "    do {\n",
              "      const length = Math.min(fileData.byteLength - position, MAX_PAYLOAD_SIZE);\n",
              "      const chunk = new Uint8Array(fileData, position, length);\n",
              "      position += length;\n",
              "\n",
              "      const base64 = btoa(String.fromCharCode.apply(null, chunk));\n",
              "      yield {\n",
              "        response: {\n",
              "          action: 'append',\n",
              "          file: file.name,\n",
              "          data: base64,\n",
              "        },\n",
              "      };\n",
              "\n",
              "      let percentDone = fileData.byteLength === 0 ?\n",
              "          100 :\n",
              "          Math.round((position / fileData.byteLength) * 100);\n",
              "      percent.textContent = `${percentDone}% done`;\n",
              "\n",
              "    } while (position < fileData.byteLength);\n",
              "  }\n",
              "\n",
              "  // All done.\n",
              "  yield {\n",
              "    response: {\n",
              "      action: 'complete',\n",
              "    }\n",
              "  };\n",
              "}\n",
              "\n",
              "scope.google = scope.google || {};\n",
              "scope.google.colab = scope.google.colab || {};\n",
              "scope.google.colab._files = {\n",
              "  _uploadFiles,\n",
              "  _uploadFilesContinue,\n",
              "};\n",
              "})(self);\n",
              "</script> "
            ]
          },
          "metadata": {}
        },
        {
          "output_type": "stream",
          "name": "stdout",
          "text": [
            "Saving TCS_15.csv to TCS_15.csv\n"
          ]
        }
      ]
    },
    {
      "cell_type": "code",
      "source": [
        "df=pd.read_csv(\"TCS_15.csv\")\n",
        "df.tail()"
      ],
      "metadata": {
        "colab": {
          "base_uri": "https://localhost:8080/",
          "height": 206
        },
        "id": "RP-K_ko99sq3",
        "outputId": "1195abbf-3ee1-4c89-856d-e751f0ae34cc"
      },
      "execution_count": null,
      "outputs": [
        {
          "output_type": "execute_result",
          "data": {
            "text/plain": [
              "            Date         Open         High          Low        Close  \\\n",
              "3698  2023-04-06  3225.000000  3257.350098  3215.000000  3220.699951   \n",
              "3699  2023-04-10  3220.000000  3272.000000  3215.000000  3263.399902   \n",
              "3700  2023-04-11  3264.000000  3272.949951  3192.149902  3213.800049   \n",
              "3701  2023-04-12  3227.949951  3260.949951  3199.000000  3241.649902   \n",
              "3702  2023-04-13  3210.000000  3230.000000  3180.000000  3188.850098   \n",
              "\n",
              "        Adj Close     Volume  \n",
              "3698  3220.699951  1703464.0  \n",
              "3699  3263.399902  2203187.0  \n",
              "3700  3213.800049  2348779.0  \n",
              "3701  3241.649902  2417727.0  \n",
              "3702  3188.850098  4174070.0  "
            ],
            "text/html": [
              "\n",
              "  <div id=\"df-c65d7487-97d9-445d-abb1-cb75337431cb\">\n",
              "    <div class=\"colab-df-container\">\n",
              "      <div>\n",
              "<style scoped>\n",
              "    .dataframe tbody tr th:only-of-type {\n",
              "        vertical-align: middle;\n",
              "    }\n",
              "\n",
              "    .dataframe tbody tr th {\n",
              "        vertical-align: top;\n",
              "    }\n",
              "\n",
              "    .dataframe thead th {\n",
              "        text-align: right;\n",
              "    }\n",
              "</style>\n",
              "<table border=\"1\" class=\"dataframe\">\n",
              "  <thead>\n",
              "    <tr style=\"text-align: right;\">\n",
              "      <th></th>\n",
              "      <th>Date</th>\n",
              "      <th>Open</th>\n",
              "      <th>High</th>\n",
              "      <th>Low</th>\n",
              "      <th>Close</th>\n",
              "      <th>Adj Close</th>\n",
              "      <th>Volume</th>\n",
              "    </tr>\n",
              "  </thead>\n",
              "  <tbody>\n",
              "    <tr>\n",
              "      <th>3698</th>\n",
              "      <td>2023-04-06</td>\n",
              "      <td>3225.000000</td>\n",
              "      <td>3257.350098</td>\n",
              "      <td>3215.000000</td>\n",
              "      <td>3220.699951</td>\n",
              "      <td>3220.699951</td>\n",
              "      <td>1703464.0</td>\n",
              "    </tr>\n",
              "    <tr>\n",
              "      <th>3699</th>\n",
              "      <td>2023-04-10</td>\n",
              "      <td>3220.000000</td>\n",
              "      <td>3272.000000</td>\n",
              "      <td>3215.000000</td>\n",
              "      <td>3263.399902</td>\n",
              "      <td>3263.399902</td>\n",
              "      <td>2203187.0</td>\n",
              "    </tr>\n",
              "    <tr>\n",
              "      <th>3700</th>\n",
              "      <td>2023-04-11</td>\n",
              "      <td>3264.000000</td>\n",
              "      <td>3272.949951</td>\n",
              "      <td>3192.149902</td>\n",
              "      <td>3213.800049</td>\n",
              "      <td>3213.800049</td>\n",
              "      <td>2348779.0</td>\n",
              "    </tr>\n",
              "    <tr>\n",
              "      <th>3701</th>\n",
              "      <td>2023-04-12</td>\n",
              "      <td>3227.949951</td>\n",
              "      <td>3260.949951</td>\n",
              "      <td>3199.000000</td>\n",
              "      <td>3241.649902</td>\n",
              "      <td>3241.649902</td>\n",
              "      <td>2417727.0</td>\n",
              "    </tr>\n",
              "    <tr>\n",
              "      <th>3702</th>\n",
              "      <td>2023-04-13</td>\n",
              "      <td>3210.000000</td>\n",
              "      <td>3230.000000</td>\n",
              "      <td>3180.000000</td>\n",
              "      <td>3188.850098</td>\n",
              "      <td>3188.850098</td>\n",
              "      <td>4174070.0</td>\n",
              "    </tr>\n",
              "  </tbody>\n",
              "</table>\n",
              "</div>\n",
              "      <button class=\"colab-df-convert\" onclick=\"convertToInteractive('df-c65d7487-97d9-445d-abb1-cb75337431cb')\"\n",
              "              title=\"Convert this dataframe to an interactive table.\"\n",
              "              style=\"display:none;\">\n",
              "        \n",
              "  <svg xmlns=\"http://www.w3.org/2000/svg\" height=\"24px\"viewBox=\"0 0 24 24\"\n",
              "       width=\"24px\">\n",
              "    <path d=\"M0 0h24v24H0V0z\" fill=\"none\"/>\n",
              "    <path d=\"M18.56 5.44l.94 2.06.94-2.06 2.06-.94-2.06-.94-.94-2.06-.94 2.06-2.06.94zm-11 1L8.5 8.5l.94-2.06 2.06-.94-2.06-.94L8.5 2.5l-.94 2.06-2.06.94zm10 10l.94 2.06.94-2.06 2.06-.94-2.06-.94-.94-2.06-.94 2.06-2.06.94z\"/><path d=\"M17.41 7.96l-1.37-1.37c-.4-.4-.92-.59-1.43-.59-.52 0-1.04.2-1.43.59L10.3 9.45l-7.72 7.72c-.78.78-.78 2.05 0 2.83L4 21.41c.39.39.9.59 1.41.59.51 0 1.02-.2 1.41-.59l7.78-7.78 2.81-2.81c.8-.78.8-2.07 0-2.86zM5.41 20L4 18.59l7.72-7.72 1.47 1.35L5.41 20z\"/>\n",
              "  </svg>\n",
              "      </button>\n",
              "      \n",
              "  <style>\n",
              "    .colab-df-container {\n",
              "      display:flex;\n",
              "      flex-wrap:wrap;\n",
              "      gap: 12px;\n",
              "    }\n",
              "\n",
              "    .colab-df-convert {\n",
              "      background-color: #E8F0FE;\n",
              "      border: none;\n",
              "      border-radius: 50%;\n",
              "      cursor: pointer;\n",
              "      display: none;\n",
              "      fill: #1967D2;\n",
              "      height: 32px;\n",
              "      padding: 0 0 0 0;\n",
              "      width: 32px;\n",
              "    }\n",
              "\n",
              "    .colab-df-convert:hover {\n",
              "      background-color: #E2EBFA;\n",
              "      box-shadow: 0px 1px 2px rgba(60, 64, 67, 0.3), 0px 1px 3px 1px rgba(60, 64, 67, 0.15);\n",
              "      fill: #174EA6;\n",
              "    }\n",
              "\n",
              "    [theme=dark] .colab-df-convert {\n",
              "      background-color: #3B4455;\n",
              "      fill: #D2E3FC;\n",
              "    }\n",
              "\n",
              "    [theme=dark] .colab-df-convert:hover {\n",
              "      background-color: #434B5C;\n",
              "      box-shadow: 0px 1px 3px 1px rgba(0, 0, 0, 0.15);\n",
              "      filter: drop-shadow(0px 1px 2px rgba(0, 0, 0, 0.3));\n",
              "      fill: #FFFFFF;\n",
              "    }\n",
              "  </style>\n",
              "\n",
              "      <script>\n",
              "        const buttonEl =\n",
              "          document.querySelector('#df-c65d7487-97d9-445d-abb1-cb75337431cb button.colab-df-convert');\n",
              "        buttonEl.style.display =\n",
              "          google.colab.kernel.accessAllowed ? 'block' : 'none';\n",
              "\n",
              "        async function convertToInteractive(key) {\n",
              "          const element = document.querySelector('#df-c65d7487-97d9-445d-abb1-cb75337431cb');\n",
              "          const dataTable =\n",
              "            await google.colab.kernel.invokeFunction('convertToInteractive',\n",
              "                                                     [key], {});\n",
              "          if (!dataTable) return;\n",
              "\n",
              "          const docLinkHtml = 'Like what you see? Visit the ' +\n",
              "            '<a target=\"_blank\" href=https://colab.research.google.com/notebooks/data_table.ipynb>data table notebook</a>'\n",
              "            + ' to learn more about interactive tables.';\n",
              "          element.innerHTML = '';\n",
              "          dataTable['output_type'] = 'display_data';\n",
              "          await google.colab.output.renderOutput(dataTable, element);\n",
              "          const docLink = document.createElement('div');\n",
              "          docLink.innerHTML = docLinkHtml;\n",
              "          element.appendChild(docLink);\n",
              "        }\n",
              "      </script>\n",
              "    </div>\n",
              "  </div>\n",
              "  "
            ]
          },
          "metadata": {},
          "execution_count": 3
        }
      ]
    },
    {
      "cell_type": "code",
      "source": [
        "df=df.dropna()\n",
        "len(df)"
      ],
      "metadata": {
        "colab": {
          "base_uri": "https://localhost:8080/"
        },
        "id": "ZGJC67LF-IR3",
        "outputId": "59ef5298-9bd5-4f1e-83cd-04ba3ee84b20"
      },
      "execution_count": null,
      "outputs": [
        {
          "output_type": "execute_result",
          "data": {
            "text/plain": [
              "3696"
            ]
          },
          "metadata": {},
          "execution_count": 4
        }
      ]
    },
    {
      "cell_type": "code",
      "source": [
        "def rsi(close, periods = 14):\n",
        "\n",
        "    close_delta = close.diff()\n",
        "\n",
        "    # Make two series: one for lower closes and one for higher closes\n",
        "    up = close_delta.clip(lower=0)\n",
        "    down = -1 * close_delta.clip(upper=0)\n",
        "\n",
        "    ma_up = up.ewm(com = periods - 1, adjust=True, min_periods = periods).mean()\n",
        "    ma_down = down.ewm(com = periods - 1, adjust=True, min_periods = periods).mean()\n",
        "\n",
        "    rsi = ma_up / ma_down\n",
        "    rsi = 100 - (100/(1 + rsi))\n",
        "    return rsi\n",
        "# Calculate money flow index\n",
        "\n",
        "def gain(x):\n",
        "    return ((x > 0) * x).sum()\n",
        "\n",
        "\n",
        "def loss(x):\n",
        "    return ((x < 0) * x).sum()\n",
        "\n",
        "def mfi(high, low, close, volume, n=14):\n",
        "    typical_price = (high + low + close)/3\n",
        "    money_flow = typical_price * volume\n",
        "    mf_sign = np.where(typical_price > typical_price.shift(1), 1, -1)\n",
        "    signed_mf = money_flow * mf_sign\n",
        "    mf_avg_gain = signed_mf.rolling(n).apply(gain, raw=True)\n",
        "    mf_avg_loss = signed_mf.rolling(n).apply(loss, raw=True)\n",
        "    return (100 - (100 / (1 + (mf_avg_gain / abs(mf_avg_loss))))).to_numpy()\n",
        "\n",
        "def atr(high, low, close, n=14):\n",
        "    tr = np.amax(np.vstack(((high - low).to_numpy(), (abs(high - close)).to_numpy(), (abs(low - close)).to_numpy())).T, axis=1)\n",
        "    return pd.Series(tr).rolling(n).mean().to_numpy()"
      ],
      "metadata": {
        "id": "sihNo7Pd-Jfw"
      },
      "execution_count": null,
      "outputs": []
    },
    {
      "cell_type": "code",
      "source": [
        "df['EMA_9']=df['Close'].ewm(5).mean().shift()\n",
        "df['SMA_50']=df['Close'].rolling(50).mean().shift()\n",
        "df['SMA_100']=df['Close'].rolling(100).mean().shift()\n",
        "df['SMA_200']=df['Close'].rolling(200).mean().shift()\n",
        "df['RSI'] = rsi(df['Close'])\n",
        "df['MFI'] = mfi(df['High'], df['Low'], df['Close'], df['Volume'], 14)\n",
        "df['ATR'] = atr(df['High'], df['Low'], df['Close'], 14)\n",
        "df=df.fillna(df.mean())\n",
        "df"
      ],
      "metadata": {
        "colab": {
          "base_uri": "https://localhost:8080/",
          "height": 478
        },
        "id": "e2ScTCQt-Lj6",
        "outputId": "b2edba9a-b88a-4869-e7e6-a2b26a42e2d0"
      },
      "execution_count": null,
      "outputs": [
        {
          "output_type": "stream",
          "name": "stderr",
          "text": [
            "<ipython-input-6-8290243b4c2b>:8: FutureWarning: The default value of numeric_only in DataFrame.mean is deprecated. In a future version, it will default to False. In addition, specifying 'numeric_only=None' is deprecated. Select only valid columns or specify the value of numeric_only to silence this warning.\n",
            "  df=df.fillna(df.mean())\n"
          ]
        },
        {
          "output_type": "execute_result",
          "data": {
            "text/plain": [
              "            Date         Open         High          Low        Close  \\\n",
              "0     2008-04-15   230.500000   246.250000   220.100006   243.537506   \n",
              "1     2008-04-16   246.250000   250.500000   240.500000   242.975006   \n",
              "2     2008-04-17   249.925003   252.500000   244.887497   250.225006   \n",
              "3     2008-04-21   252.250000   258.750000   246.649994   248.350006   \n",
              "4     2008-04-22   246.237503   246.237503   220.500000   221.800003   \n",
              "...          ...          ...          ...          ...          ...   \n",
              "3698  2023-04-06  3225.000000  3257.350098  3215.000000  3220.699951   \n",
              "3699  2023-04-10  3220.000000  3272.000000  3215.000000  3263.399902   \n",
              "3700  2023-04-11  3264.000000  3272.949951  3192.149902  3213.800049   \n",
              "3701  2023-04-12  3227.949951  3260.949951  3199.000000  3241.649902   \n",
              "3702  2023-04-13  3210.000000  3230.000000  3180.000000  3188.850098   \n",
              "\n",
              "        Adj Close      Volume        EMA_9       SMA_50      SMA_100  \\\n",
              "0      181.369308   5703772.0  1435.190557  1435.041561  1430.087718   \n",
              "1      180.950348   6438768.0   243.537506  1435.041561  1430.087718   \n",
              "2      186.349609   3999556.0   243.230688  1435.041561  1430.087718   \n",
              "3      184.953293   3399296.0   245.997671  1435.041561  1430.087718   \n",
              "4      165.180801  13785196.0   246.754905  1435.041561  1430.087718   \n",
              "...           ...         ...          ...          ...          ...   \n",
              "3698  3220.699951   1703464.0  3183.731981  3345.566001  3334.764504   \n",
              "3699  3263.399902   2203187.0  3189.893309  3342.717998  3333.812004   \n",
              "3700  3213.800049   2348779.0  3202.144408  3339.687998  3333.091003   \n",
              "3701  3241.649902   2417727.0  3204.087015  3335.237998  3331.903003   \n",
              "3702  3188.850098   4174070.0  3210.347496  3331.475996  3330.766001   \n",
              "\n",
              "          SMA_200        RSI        MFI        ATR  \n",
              "0     1421.758903  53.158651  52.968404  31.175136  \n",
              "1     1421.758903  53.158651  52.968404  31.175136  \n",
              "2     1421.758903  53.158651  52.968404  31.175136  \n",
              "3     1421.758903  53.158651  52.968404  31.175136  \n",
              "4     1421.758903  53.158651  52.968404  31.175136  \n",
              "...           ...        ...        ...        ...  \n",
              "3698  3258.425999  47.767146  42.591133  55.092861  \n",
              "3699  3258.819498  53.515889  49.694940  55.750000  \n",
              "3700  3259.691998  47.039545  58.266660  55.992868  \n",
              "3701  3260.198999  50.650771  67.456730  55.089303  \n",
              "3702  3260.347499  44.460978  61.608478  54.425014  \n",
              "\n",
              "[3696 rows x 14 columns]"
            ],
            "text/html": [
              "\n",
              "  <div id=\"df-a191c7aa-18c3-41f3-84e7-c90331561cde\">\n",
              "    <div class=\"colab-df-container\">\n",
              "      <div>\n",
              "<style scoped>\n",
              "    .dataframe tbody tr th:only-of-type {\n",
              "        vertical-align: middle;\n",
              "    }\n",
              "\n",
              "    .dataframe tbody tr th {\n",
              "        vertical-align: top;\n",
              "    }\n",
              "\n",
              "    .dataframe thead th {\n",
              "        text-align: right;\n",
              "    }\n",
              "</style>\n",
              "<table border=\"1\" class=\"dataframe\">\n",
              "  <thead>\n",
              "    <tr style=\"text-align: right;\">\n",
              "      <th></th>\n",
              "      <th>Date</th>\n",
              "      <th>Open</th>\n",
              "      <th>High</th>\n",
              "      <th>Low</th>\n",
              "      <th>Close</th>\n",
              "      <th>Adj Close</th>\n",
              "      <th>Volume</th>\n",
              "      <th>EMA_9</th>\n",
              "      <th>SMA_50</th>\n",
              "      <th>SMA_100</th>\n",
              "      <th>SMA_200</th>\n",
              "      <th>RSI</th>\n",
              "      <th>MFI</th>\n",
              "      <th>ATR</th>\n",
              "    </tr>\n",
              "  </thead>\n",
              "  <tbody>\n",
              "    <tr>\n",
              "      <th>0</th>\n",
              "      <td>2008-04-15</td>\n",
              "      <td>230.500000</td>\n",
              "      <td>246.250000</td>\n",
              "      <td>220.100006</td>\n",
              "      <td>243.537506</td>\n",
              "      <td>181.369308</td>\n",
              "      <td>5703772.0</td>\n",
              "      <td>1435.190557</td>\n",
              "      <td>1435.041561</td>\n",
              "      <td>1430.087718</td>\n",
              "      <td>1421.758903</td>\n",
              "      <td>53.158651</td>\n",
              "      <td>52.968404</td>\n",
              "      <td>31.175136</td>\n",
              "    </tr>\n",
              "    <tr>\n",
              "      <th>1</th>\n",
              "      <td>2008-04-16</td>\n",
              "      <td>246.250000</td>\n",
              "      <td>250.500000</td>\n",
              "      <td>240.500000</td>\n",
              "      <td>242.975006</td>\n",
              "      <td>180.950348</td>\n",
              "      <td>6438768.0</td>\n",
              "      <td>243.537506</td>\n",
              "      <td>1435.041561</td>\n",
              "      <td>1430.087718</td>\n",
              "      <td>1421.758903</td>\n",
              "      <td>53.158651</td>\n",
              "      <td>52.968404</td>\n",
              "      <td>31.175136</td>\n",
              "    </tr>\n",
              "    <tr>\n",
              "      <th>2</th>\n",
              "      <td>2008-04-17</td>\n",
              "      <td>249.925003</td>\n",
              "      <td>252.500000</td>\n",
              "      <td>244.887497</td>\n",
              "      <td>250.225006</td>\n",
              "      <td>186.349609</td>\n",
              "      <td>3999556.0</td>\n",
              "      <td>243.230688</td>\n",
              "      <td>1435.041561</td>\n",
              "      <td>1430.087718</td>\n",
              "      <td>1421.758903</td>\n",
              "      <td>53.158651</td>\n",
              "      <td>52.968404</td>\n",
              "      <td>31.175136</td>\n",
              "    </tr>\n",
              "    <tr>\n",
              "      <th>3</th>\n",
              "      <td>2008-04-21</td>\n",
              "      <td>252.250000</td>\n",
              "      <td>258.750000</td>\n",
              "      <td>246.649994</td>\n",
              "      <td>248.350006</td>\n",
              "      <td>184.953293</td>\n",
              "      <td>3399296.0</td>\n",
              "      <td>245.997671</td>\n",
              "      <td>1435.041561</td>\n",
              "      <td>1430.087718</td>\n",
              "      <td>1421.758903</td>\n",
              "      <td>53.158651</td>\n",
              "      <td>52.968404</td>\n",
              "      <td>31.175136</td>\n",
              "    </tr>\n",
              "    <tr>\n",
              "      <th>4</th>\n",
              "      <td>2008-04-22</td>\n",
              "      <td>246.237503</td>\n",
              "      <td>246.237503</td>\n",
              "      <td>220.500000</td>\n",
              "      <td>221.800003</td>\n",
              "      <td>165.180801</td>\n",
              "      <td>13785196.0</td>\n",
              "      <td>246.754905</td>\n",
              "      <td>1435.041561</td>\n",
              "      <td>1430.087718</td>\n",
              "      <td>1421.758903</td>\n",
              "      <td>53.158651</td>\n",
              "      <td>52.968404</td>\n",
              "      <td>31.175136</td>\n",
              "    </tr>\n",
              "    <tr>\n",
              "      <th>...</th>\n",
              "      <td>...</td>\n",
              "      <td>...</td>\n",
              "      <td>...</td>\n",
              "      <td>...</td>\n",
              "      <td>...</td>\n",
              "      <td>...</td>\n",
              "      <td>...</td>\n",
              "      <td>...</td>\n",
              "      <td>...</td>\n",
              "      <td>...</td>\n",
              "      <td>...</td>\n",
              "      <td>...</td>\n",
              "      <td>...</td>\n",
              "      <td>...</td>\n",
              "    </tr>\n",
              "    <tr>\n",
              "      <th>3698</th>\n",
              "      <td>2023-04-06</td>\n",
              "      <td>3225.000000</td>\n",
              "      <td>3257.350098</td>\n",
              "      <td>3215.000000</td>\n",
              "      <td>3220.699951</td>\n",
              "      <td>3220.699951</td>\n",
              "      <td>1703464.0</td>\n",
              "      <td>3183.731981</td>\n",
              "      <td>3345.566001</td>\n",
              "      <td>3334.764504</td>\n",
              "      <td>3258.425999</td>\n",
              "      <td>47.767146</td>\n",
              "      <td>42.591133</td>\n",
              "      <td>55.092861</td>\n",
              "    </tr>\n",
              "    <tr>\n",
              "      <th>3699</th>\n",
              "      <td>2023-04-10</td>\n",
              "      <td>3220.000000</td>\n",
              "      <td>3272.000000</td>\n",
              "      <td>3215.000000</td>\n",
              "      <td>3263.399902</td>\n",
              "      <td>3263.399902</td>\n",
              "      <td>2203187.0</td>\n",
              "      <td>3189.893309</td>\n",
              "      <td>3342.717998</td>\n",
              "      <td>3333.812004</td>\n",
              "      <td>3258.819498</td>\n",
              "      <td>53.515889</td>\n",
              "      <td>49.694940</td>\n",
              "      <td>55.750000</td>\n",
              "    </tr>\n",
              "    <tr>\n",
              "      <th>3700</th>\n",
              "      <td>2023-04-11</td>\n",
              "      <td>3264.000000</td>\n",
              "      <td>3272.949951</td>\n",
              "      <td>3192.149902</td>\n",
              "      <td>3213.800049</td>\n",
              "      <td>3213.800049</td>\n",
              "      <td>2348779.0</td>\n",
              "      <td>3202.144408</td>\n",
              "      <td>3339.687998</td>\n",
              "      <td>3333.091003</td>\n",
              "      <td>3259.691998</td>\n",
              "      <td>47.039545</td>\n",
              "      <td>58.266660</td>\n",
              "      <td>55.992868</td>\n",
              "    </tr>\n",
              "    <tr>\n",
              "      <th>3701</th>\n",
              "      <td>2023-04-12</td>\n",
              "      <td>3227.949951</td>\n",
              "      <td>3260.949951</td>\n",
              "      <td>3199.000000</td>\n",
              "      <td>3241.649902</td>\n",
              "      <td>3241.649902</td>\n",
              "      <td>2417727.0</td>\n",
              "      <td>3204.087015</td>\n",
              "      <td>3335.237998</td>\n",
              "      <td>3331.903003</td>\n",
              "      <td>3260.198999</td>\n",
              "      <td>50.650771</td>\n",
              "      <td>67.456730</td>\n",
              "      <td>55.089303</td>\n",
              "    </tr>\n",
              "    <tr>\n",
              "      <th>3702</th>\n",
              "      <td>2023-04-13</td>\n",
              "      <td>3210.000000</td>\n",
              "      <td>3230.000000</td>\n",
              "      <td>3180.000000</td>\n",
              "      <td>3188.850098</td>\n",
              "      <td>3188.850098</td>\n",
              "      <td>4174070.0</td>\n",
              "      <td>3210.347496</td>\n",
              "      <td>3331.475996</td>\n",
              "      <td>3330.766001</td>\n",
              "      <td>3260.347499</td>\n",
              "      <td>44.460978</td>\n",
              "      <td>61.608478</td>\n",
              "      <td>54.425014</td>\n",
              "    </tr>\n",
              "  </tbody>\n",
              "</table>\n",
              "<p>3696 rows × 14 columns</p>\n",
              "</div>\n",
              "      <button class=\"colab-df-convert\" onclick=\"convertToInteractive('df-a191c7aa-18c3-41f3-84e7-c90331561cde')\"\n",
              "              title=\"Convert this dataframe to an interactive table.\"\n",
              "              style=\"display:none;\">\n",
              "        \n",
              "  <svg xmlns=\"http://www.w3.org/2000/svg\" height=\"24px\"viewBox=\"0 0 24 24\"\n",
              "       width=\"24px\">\n",
              "    <path d=\"M0 0h24v24H0V0z\" fill=\"none\"/>\n",
              "    <path d=\"M18.56 5.44l.94 2.06.94-2.06 2.06-.94-2.06-.94-.94-2.06-.94 2.06-2.06.94zm-11 1L8.5 8.5l.94-2.06 2.06-.94-2.06-.94L8.5 2.5l-.94 2.06-2.06.94zm10 10l.94 2.06.94-2.06 2.06-.94-2.06-.94-.94-2.06-.94 2.06-2.06.94z\"/><path d=\"M17.41 7.96l-1.37-1.37c-.4-.4-.92-.59-1.43-.59-.52 0-1.04.2-1.43.59L10.3 9.45l-7.72 7.72c-.78.78-.78 2.05 0 2.83L4 21.41c.39.39.9.59 1.41.59.51 0 1.02-.2 1.41-.59l7.78-7.78 2.81-2.81c.8-.78.8-2.07 0-2.86zM5.41 20L4 18.59l7.72-7.72 1.47 1.35L5.41 20z\"/>\n",
              "  </svg>\n",
              "      </button>\n",
              "      \n",
              "  <style>\n",
              "    .colab-df-container {\n",
              "      display:flex;\n",
              "      flex-wrap:wrap;\n",
              "      gap: 12px;\n",
              "    }\n",
              "\n",
              "    .colab-df-convert {\n",
              "      background-color: #E8F0FE;\n",
              "      border: none;\n",
              "      border-radius: 50%;\n",
              "      cursor: pointer;\n",
              "      display: none;\n",
              "      fill: #1967D2;\n",
              "      height: 32px;\n",
              "      padding: 0 0 0 0;\n",
              "      width: 32px;\n",
              "    }\n",
              "\n",
              "    .colab-df-convert:hover {\n",
              "      background-color: #E2EBFA;\n",
              "      box-shadow: 0px 1px 2px rgba(60, 64, 67, 0.3), 0px 1px 3px 1px rgba(60, 64, 67, 0.15);\n",
              "      fill: #174EA6;\n",
              "    }\n",
              "\n",
              "    [theme=dark] .colab-df-convert {\n",
              "      background-color: #3B4455;\n",
              "      fill: #D2E3FC;\n",
              "    }\n",
              "\n",
              "    [theme=dark] .colab-df-convert:hover {\n",
              "      background-color: #434B5C;\n",
              "      box-shadow: 0px 1px 3px 1px rgba(0, 0, 0, 0.15);\n",
              "      filter: drop-shadow(0px 1px 2px rgba(0, 0, 0, 0.3));\n",
              "      fill: #FFFFFF;\n",
              "    }\n",
              "  </style>\n",
              "\n",
              "      <script>\n",
              "        const buttonEl =\n",
              "          document.querySelector('#df-a191c7aa-18c3-41f3-84e7-c90331561cde button.colab-df-convert');\n",
              "        buttonEl.style.display =\n",
              "          google.colab.kernel.accessAllowed ? 'block' : 'none';\n",
              "\n",
              "        async function convertToInteractive(key) {\n",
              "          const element = document.querySelector('#df-a191c7aa-18c3-41f3-84e7-c90331561cde');\n",
              "          const dataTable =\n",
              "            await google.colab.kernel.invokeFunction('convertToInteractive',\n",
              "                                                     [key], {});\n",
              "          if (!dataTable) return;\n",
              "\n",
              "          const docLinkHtml = 'Like what you see? Visit the ' +\n",
              "            '<a target=\"_blank\" href=https://colab.research.google.com/notebooks/data_table.ipynb>data table notebook</a>'\n",
              "            + ' to learn more about interactive tables.';\n",
              "          element.innerHTML = '';\n",
              "          dataTable['output_type'] = 'display_data';\n",
              "          await google.colab.output.renderOutput(dataTable, element);\n",
              "          const docLink = document.createElement('div');\n",
              "          docLink.innerHTML = docLinkHtml;\n",
              "          element.appendChild(docLink);\n",
              "        }\n",
              "      </script>\n",
              "    </div>\n",
              "  </div>\n",
              "  "
            ]
          },
          "metadata": {},
          "execution_count": 6
        }
      ]
    },
    {
      "cell_type": "code",
      "source": [
        "plt.figure(figsize=(16,6))\n",
        "plt.title('Close Price History')\n",
        "plt.plot(df['Close'])\n",
        "plt.xlabel('Date', fontsize=18)\n",
        "plt.ylabel('Close Price INR', fontsize=18)\n",
        "plt.show()"
      ],
      "metadata": {
        "colab": {
          "base_uri": "https://localhost:8080/",
          "height": 574
        },
        "id": "xHf1T3Qk-NEr",
        "outputId": "4a02bbed-1515-4a27-ec90-695edb0c5255"
      },
      "execution_count": null,
      "outputs": [
        {
          "output_type": "display_data",
          "data": {
            "text/plain": [
              "<Figure size 1600x600 with 1 Axes>"
            ],
            "image/png": "[encoded data removed]"
          },
          "metadata": {}
        }
      ]
    },
    {
      "cell_type": "code",
      "source": [
        "# seperate out our x and y values\n",
        "df1=df.drop(['Date','Close'],axis=1)\n",
        "y_values=df['Close']"
      ],
      "metadata": {
        "id": "Mq4UpCxx-PuB"
      },
      "execution_count": null,
      "outputs": []
    },
    {
      "cell_type": "code",
      "source": [
        "from sklearn.preprocessing import MinMaxScaler\n",
        "sc = MinMaxScaler(feature_range=(0,1))\n",
        "scaled_df = sc.fit_transform(df1)\n",
        "scaled_df.shape"
      ],
      "metadata": {
        "colab": {
          "base_uri": "https://localhost:8080/"
        },
        "id": "HrbdKdu5-RFi",
        "outputId": "bd62be8a-8d4d-4f45-9f8e-0c30cd9a77d8"
      },
      "execution_count": null,
      "outputs": [
        {
          "output_type": "execute_result",
          "data": {
            "text/plain": [
              "(3696, 12)"
            ]
          },
          "metadata": {},
          "execution_count": 9
        }
      ]
    },
    {
      "cell_type": "markdown",
      "source": [
        "##PCA\n"
      ],
      "metadata": {
        "id": "gfWOIwjo-VUI"
      }
    },
    {
      "cell_type": "code",
      "source": [
        "from sklearn.decomposition import PCA\n",
        "pca = PCA()\n",
        "x_values = pca.fit_transform(scaled_df) # project the original data into the PCA space\n",
        "x_values"
      ],
      "metadata": {
        "colab": {
          "base_uri": "https://localhost:8080/"
        },
        "id": "LyFjJGBN-SFT",
        "outputId": "d540324b-5c32-4114-dfed-860e9dd601ef"
      },
      "execution_count": null,
      "outputs": [
        {
          "output_type": "execute_result",
          "data": {
            "text/plain": [
              "array([[-4.20964421e-01, -5.94125249e-02,  1.92181124e-01, ...,\n",
              "         2.49917253e-01, -1.24816429e-03, -1.15806250e-02],\n",
              "       [-5.28289903e-01, -6.49660614e-02,  2.37039628e-01, ...,\n",
              "        -8.81173368e-03, -2.55947001e-03, -2.45045142e-03],\n",
              "       [-5.26737365e-01, -6.47467949e-02,  2.35668624e-01, ...,\n",
              "        -9.00503502e-03, -2.82711666e-03, -2.14636386e-03],\n",
              "       ...,\n",
              "       [ 1.40130624e+00, -8.28353140e-03,  1.18272180e-01, ...,\n",
              "        -6.06637084e-03, -6.79723433e-03,  5.47861262e-03],\n",
              "       [ 1.39794203e+00,  1.05436538e-01,  1.49604283e-01, ...,\n",
              "         1.09086143e-03, -8.37494831e-04,  1.62632769e-03],\n",
              "       [ 1.38740803e+00, -5.20771296e-03,  1.65510738e-01, ...,\n",
              "         2.11314289e-03, -1.35368218e-03, -1.14838976e-03]])"
            ]
          },
          "metadata": {},
          "execution_count": 10
        }
      ]
    },
    {
      "cell_type": "code",
      "source": [
        "from sklearn.model_selection import train_test_split\n",
        "X_train, X_test, y_train,y_test= train_test_split(x_values,y_values, random_state=0)"
      ],
      "metadata": {
        "id": "_mTPX8IJ-UkX"
      },
      "execution_count": null,
      "outputs": []
    },
    {
      "cell_type": "markdown",
      "source": [
        "##Stacking\n"
      ],
      "metadata": {
        "id": "ikZ1oLJ6-bWh"
      }
    },
    {
      "cell_type": "code",
      "source": [
        "!pip install vecstack"
      ],
      "metadata": {
        "colab": {
          "base_uri": "https://localhost:8080/"
        },
        "id": "GrikDxr-HA1c",
        "outputId": "4d2c32fb-3dd3-48a5-bd77-55b761a4c3e2"
      },
      "execution_count": null,
      "outputs": [
        {
          "output_type": "stream",
          "name": "stdout",
          "text": [
            "Looking in indexes: https://pypi.org/simple, https://us-python.pkg.dev/colab-wheels/public/simple/\n",
            "Collecting vecstack\n",
            "  Downloading vecstack-0.4.0.tar.gz (18 kB)\n",
            "  Preparing metadata (setup.py) ... \u001b[?25l\u001b[?25hdone\n",
            "Requirement already satisfied: numpy in /usr/local/lib/python3.10/dist-packages (from vecstack) (1.22.4)\n",
            "Requirement already satisfied: scipy in /usr/local/lib/python3.10/dist-packages (from vecstack) (1.10.1)\n",
            "Requirement already satisfied: scikit-learn>=0.18 in /usr/local/lib/python3.10/dist-packages (from vecstack) (1.2.2)\n",
            "Requirement already satisfied: threadpoolctl>=2.0.0 in /usr/local/lib/python3.10/dist-packages (from scikit-learn>=0.18->vecstack) (3.1.0)\n",
            "Requirement already satisfied: joblib>=1.1.1 in /usr/local/lib/python3.10/dist-packages (from scikit-learn>=0.18->vecstack) (1.2.0)\n",
            "Building wheels for collected packages: vecstack\n",
            "  Building wheel for vecstack (setup.py) ... \u001b[?25l\u001b[?25hdone\n",
            "  Created wheel for vecstack: filename=vecstack-0.4.0-py3-none-any.whl size=19879 sha256=96f7bb56cdc574e06532b6e3c9bd6d55bfe8e7fb46d913fd8cad6f2f1389c9b4\n",
            "  Stored in directory: /root/.cache/pip/wheels/b8/d8/51/3cf39adf22c522b0a91dc2208db4e9de4d2d9d171683596220\n",
            "Successfully built vecstack\n",
            "Installing collected packages: vecstack\n",
            "Successfully installed vecstack-0.4.0\n"
          ]
        }
      ]
    },
    {
      "cell_type": "code",
      "source": [
        "from sklearn.linear_model import LinearRegression\n",
        "from sklearn.ensemble import RandomForestRegressor\n",
        "from sklearn.tree import DecisionTreeRegressor\n",
        "from sklearn.svm import SVR\n",
        "from vecstack import stacking\n",
        "from sklearn.neighbors import KNeighborsRegressor"
      ],
      "metadata": {
        "id": "YV3_MCDgD1Qr"
      },
      "execution_count": null,
      "outputs": []
    },
    {
      "cell_type": "code",
      "source": [
        "# Define the base models\n",
        "model1 = LinearRegression()\n",
        "model2 = RandomForestRegressor(n_estimators=10, random_state=0)\n",
        "model3 = DecisionTreeRegressor(random_state=0)\n",
        "model4 = KNeighborsRegressor(n_neighbors=3)"
      ],
      "metadata": {
        "id": "gHDuuQHdG-wr"
      },
      "execution_count": null,
      "outputs": []
    },
    {
      "cell_type": "code",
      "source": [
        "meta_model = LinearRegression()"
      ],
      "metadata": {
        "id": "9TPn7-PqHmgy"
      },
      "execution_count": null,
      "outputs": []
    },
    {
      "cell_type": "code",
      "source": [
        "models = [model1, model2, model3,model4]\n",
        "S_train, S_test = stacking(models, X_train, y_train, X_test, regression=True, mode='oof_pred_bag', needs_proba=False, save_dir=None, metric=None, n_folds=4, stratified=True, shuffle=True, random_state=0, verbose=2)"
      ],
      "metadata": {
        "colab": {
          "base_uri": "https://localhost:8080/"
        },
        "id": "uCwMTy25HobJ",
        "outputId": "a9ed40b0-e023-4fcb-d969-dea1678c32f1"
      },
      "execution_count": null,
      "outputs": [
        {
          "output_type": "stream",
          "name": "stderr",
          "text": [
            "/usr/local/lib/python3.10/dist-packages/vecstack/core.py:461: UserWarning: This is regression task hence classification-specific parameters set to <True> were ignored: <stratified>\n",
            "  warnings.warn(warn_str, UserWarning)\n"
          ]
        },
        {
          "output_type": "stream",
          "name": "stdout",
          "text": [
            "task:         [regression]\n",
            "metric:       [mean_absolute_error]\n",
            "mode:         [oof_pred_bag]\n",
            "n_models:     [4]\n",
            "\n",
            "model  0:     [LinearRegression]\n",
            "    fold  0:  [6.05478512]\n",
            "    fold  1:  [6.50041883]\n",
            "    fold  2:  [6.44624511]\n",
            "    fold  3:  [6.63273615]\n",
            "    ----\n",
            "    MEAN:     [6.40854630] + [0.21521490]\n",
            "    FULL:     [6.40854630]\n",
            "\n",
            "model  1:     [RandomForestRegressor]\n",
            "    fold  0:  [14.82588090]\n",
            "    fold  1:  [16.20941973]\n",
            "    fold  2:  [14.88791072]\n",
            "    fold  3:  [17.70210427]\n",
            "    ----\n",
            "    MEAN:     [15.90632891] + [1.17486347]\n",
            "    FULL:     [15.90632891]\n",
            "\n",
            "model  2:     [DecisionTreeRegressor]\n",
            "    fold  0:  [20.06938937]\n",
            "    fold  1:  [22.59204505]\n",
            "    fold  2:  [21.01592450]\n",
            "    fold  3:  [21.40699686]\n",
            "    ----\n",
            "    MEAN:     [21.27108895] + [0.90451462]\n",
            "    FULL:     [21.27108895]\n",
            "\n",
            "model  3:     [KNeighborsRegressor]\n",
            "    fold  0:  [19.29391709]\n",
            "    fold  1:  [19.56133443]\n",
            "    fold  2:  [18.84779423]\n",
            "    fold  3:  [20.20347655]\n",
            "    ----\n",
            "    MEAN:     [19.47663057] + [0.49099368]\n",
            "    FULL:     [19.47663057]\n",
            "\n"
          ]
        }
      ]
    },
    {
      "cell_type": "code",
      "source": [
        "meta_model.fit(S_train, y_train)"
      ],
      "metadata": {
        "colab": {
          "base_uri": "https://localhost:8080/",
          "height": 75
        },
        "id": "ODLZdDVSHq2t",
        "outputId": "22267959-67ec-41c1-ed9a-5444549ab8a3"
      },
      "execution_count": null,
      "outputs": [
        {
          "output_type": "execute_result",
          "data": {
            "text/plain": [
              "LinearRegression()"
            ],
            "text/html": [
              "<style>#sk-container-id-1 {color: black;background-color: white;}#sk-container-id-1 pre{padding: 0;}#sk-container-id-1 div.sk-toggleable {background-color: white;}#sk-container-id-1 label.sk-toggleable__label {cursor: pointer;display: block;width: 100%;margin-bottom: 0;padding: 0.3em;box-sizing: border-box;text-align: center;}#sk-container-id-1 label.sk-toggleable__label-arrow:before {content: \"▸\";float: left;margin-right: 0.25em;color: #696969;}#sk-container-id-1 label.sk-toggleable__label-arrow:hover:before {color: black;}#sk-container-id-1 div.sk-estimator:hover label.sk-toggleable__label-arrow:before {color: black;}#sk-container-id-1 div.sk-toggleable__content {max-height: 0;max-width: 0;overflow: hidden;text-align: left;background-color: #f0f8ff;}#sk-container-id-1 div.sk-toggleable__content pre {margin: 0.2em;color: black;border-radius: 0.25em;background-color: #f0f8ff;}#sk-container-id-1 input.sk-toggleable__control:checked~div.sk-toggleable__content {max-height: 200px;max-width: 100%;overflow: auto;}#sk-container-id-1 input.sk-toggleable__control:checked~label.sk-toggleable__label-arrow:before {content: \"▾\";}#sk-container-id-1 div.sk-estimator input.sk-toggleable__control:checked~label.sk-toggleable__label {background-color: #d4ebff;}#sk-container-id-1 div.sk-label input.sk-toggleable__control:checked~label.sk-toggleable__label {background-color: #d4ebff;}#sk-container-id-1 input.sk-hidden--visually {border: 0;clip: rect(1px 1px 1px 1px);clip: rect(1px, 1px, 1px, 1px);height: 1px;margin: -1px;overflow: hidden;padding: 0;position: absolute;width: 1px;}#sk-container-id-1 div.sk-estimator {font-family: monospace;background-color: #f0f8ff;border: 1px dotted black;border-radius: 0.25em;box-sizing: border-box;margin-bottom: 0.5em;}#sk-container-id-1 div.sk-estimator:hover {background-color: #d4ebff;}#sk-container-id-1 div.sk-parallel-item::after {content: \"\";width: 100%;border-bottom: 1px solid gray;flex-grow: 1;}#sk-container-id-1 div.sk-label:hover label.sk-toggleable__label {background-color: #d4ebff;}#sk-container-id-1 div.sk-serial::before {content: \"\";position: absolute;border-left: 1px solid gray;box-sizing: border-box;top: 0;bottom: 0;left: 50%;z-index: 0;}#sk-container-id-1 div.sk-serial {display: flex;flex-direction: column;align-items: center;background-color: white;padding-right: 0.2em;padding-left: 0.2em;position: relative;}#sk-container-id-1 div.sk-item {position: relative;z-index: 1;}#sk-container-id-1 div.sk-parallel {display: flex;align-items: stretch;justify-content: center;background-color: white;position: relative;}#sk-container-id-1 div.sk-item::before, #sk-container-id-1 div.sk-parallel-item::before {content: \"\";position: absolute;border-left: 1px solid gray;box-sizing: border-box;top: 0;bottom: 0;left: 50%;z-index: -1;}#sk-container-id-1 div.sk-parallel-item {display: flex;flex-direction: column;z-index: 1;position: relative;background-color: white;}#sk-container-id-1 div.sk-parallel-item:first-child::after {align-self: flex-end;width: 50%;}#sk-container-id-1 div.sk-parallel-item:last-child::after {align-self: flex-start;width: 50%;}#sk-container-id-1 div.sk-parallel-item:only-child::after {width: 0;}#sk-container-id-1 div.sk-dashed-wrapped {border: 1px dashed gray;margin: 0 0.4em 0.5em 0.4em;box-sizing: border-box;padding-bottom: 0.4em;background-color: white;}#sk-container-id-1 div.sk-label label {font-family: monospace;font-weight: bold;display: inline-block;line-height: 1.2em;}#sk-container-id-1 div.sk-label-container {text-align: center;}#sk-container-id-1 div.sk-container {/* jupyter's `normalize.less` sets `[hidden] { display: none; }` but bootstrap.min.css set `[hidden] { display: none !important; }` so we also need the `!important` here to be able to override the default hidden behavior on the sphinx rendered scikit-learn.org. See: https://github.com/scikit-learn/scikit-learn/issues/21755 */display: inline-block !important;position: relative;}#sk-container-id-1 div.sk-text-repr-fallback {display: none;}</style><div id=\"sk-container-id-1\" class=\"sk-top-container\"><div class=\"sk-text-repr-fallback\"><pre>LinearRegression()</pre><b>In a Jupyter environment, please rerun this cell to show the HTML representation or trust the notebook. <br />On GitHub, the HTML representation is unable to render, please try loading this page with nbviewer.org.</b></div><div class=\"sk-container\" hidden><div class=\"sk-item\"><div class=\"sk-estimator sk-toggleable\"><input class=\"sk-toggleable__control sk-hidden--visually\" id=\"sk-estimator-id-1\" type=\"checkbox\" checked><label for=\"sk-estimator-id-1\" class=\"sk-toggleable__label sk-toggleable__label-arrow\">LinearRegression</label><div class=\"sk-toggleable__content\"><pre>LinearRegression()</pre></div></div></div></div></div>"
            ]
          },
          "metadata": {},
          "execution_count": 17
        }
      ]
    },
    {
      "cell_type": "code",
      "source": [
        "# Make predictions on the test data\n",
        "y_pred = meta_model.predict(S_test)\n"
      ],
      "metadata": {
        "id": "nW0uZyBuHvGp"
      },
      "execution_count": null,
      "outputs": []
    },
    {
      "cell_type": "code",
      "source": [
        "from sklearn.metrics import mean_squared_error,r2_score,mean_absolute_error\n",
        "import math\n",
        "\n",
        "mse = mean_squared_error(y_test, y_pred)\n",
        "r2 = r2_score(y_test, y_pred)\n",
        "rmse=math.sqrt(mse)\n",
        "\n",
        "def mean_absolute_percentage_error(true, pred):\n",
        "    abs_error = (np.abs(true - pred)) / true\n",
        "    sum_abs_error = np.sum(abs_error)\n",
        "    mape_loss = (sum_abs_error / true.size) * 100\n",
        "    return mape_loss\n",
        "\n",
        "mae=mean_absolute_error(y_test,y_pred)"
      ],
      "metadata": {
        "id": "wN5JWo9NH3Wp"
      },
      "execution_count": null,
      "outputs": []
    },
    {
      "cell_type": "code",
      "source": [
        "print(\"RMSE=\",rmse)\n",
        "print(\"MAPE=\",mape)\n",
        "print(\"MAE=\",mae)\n"
      ],
      "metadata": {
        "colab": {
          "base_uri": "https://localhost:8080/"
        },
        "id": "GxktDmlnJ7lL",
        "outputId": "904272e3-65e1-4514-cd61-9538524f0b7b"
      },
      "execution_count": null,
      "outputs": [
        {
          "output_type": "stream",
          "name": "stdout",
          "text": [
            "RMSE= 8.149998581118107\n",
            "MAPE= 0.5789438757418023\n",
            "MAE= 5.685179273318712\n"
          ]
        }
      ]
    }
  ]
}